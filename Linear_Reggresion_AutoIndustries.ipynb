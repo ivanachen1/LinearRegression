{
  "nbformat": 4,
  "nbformat_minor": 0,
  "metadata": {
    "colab": {
      "name": "Linear Reggresion - AutoIndustries.ipynb",
      "provenance": [],
      "collapsed_sections": [],
      "mount_file_id": "1fXHbVhTBWBNAiTCMS6tdtP5aSlAzFoSw",
      "authorship_tag": "ABX9TyNGf6dHlHoxQguToxbr6/oD",
      "include_colab_link": true
    },
    "kernelspec": {
      "name": "python3",
      "display_name": "Python 3"
    },
    "language_info": {
      "name": "python"
    }
  },
  "cells": [
    {
      "cell_type": "markdown",
      "metadata": {
        "id": "view-in-github",
        "colab_type": "text"
      },
      "source": [
        "<a href=\"https://colab.research.google.com/github/ivanachen1/LinearRegression/blob/main/Linear_Reggresion_AutoIndustries.ipynb\" target=\"_parent\"><img src=\"https://colab.research.google.com/assets/colab-badge.svg\" alt=\"Open In Colab\"/></a>"
      ]
    },
    {
      "cell_type": "code",
      "metadata": {
        "id": "Lr1cstA0QdPn"
      },
      "source": [
        "import pandas as pd\n",
        "import numpy as np\n",
        "import matplotlib.pyplot as plt\n",
        "from datetime import datetime"
      ],
      "execution_count": 1,
      "outputs": []
    },
    {
      "cell_type": "code",
      "metadata": {
        "colab": {
          "base_uri": "https://localhost:8080/"
        },
        "id": "8aagFOie2PAR",
        "outputId": "8cd21aaa-bc18-4874-a46c-24aeca09a0fa"
      },
      "source": [
        "%cd /content/drive/MyDrive/Colab Notebooks/Machine Learning/"
      ],
      "execution_count": 2,
      "outputs": [
        {
          "output_type": "stream",
          "name": "stdout",
          "text": [
            "/content/drive/MyDrive/Colab Notebooks/Machine Learning\n"
          ]
        }
      ]
    },
    {
      "cell_type": "code",
      "metadata": {
        "id": "5-heVGi02SVP"
      },
      "source": [
        "import LinearRegressionAux as aux"
      ],
      "execution_count": 3,
      "outputs": []
    },
    {
      "cell_type": "code",
      "metadata": {
        "id": "nL0ziecZ2bbv"
      },
      "source": [
        "dataframe = aux.carga_datos()\n",
        "dataframe = dataframe.dropna(axis= 0)\n",
        "#dataframe"
      ],
      "execution_count": 4,
      "outputs": []
    },
    {
      "cell_type": "code",
      "metadata": {
        "id": "T3tPJRlqwHlf"
      },
      "source": [
        "dataframe = aux.cambio_formatos(dataframe)\n",
        "#dataframe"
      ],
      "execution_count": 5,
      "outputs": []
    },
    {
      "cell_type": "code",
      "metadata": {
        "id": "ilHBT_1eXdDp"
      },
      "source": [
        "lista_anios = dataframe[\"anio\"].unique()"
      ],
      "execution_count": 6,
      "outputs": []
    },
    {
      "cell_type": "code",
      "metadata": {
        "id": "LOamC1TUf3y_"
      },
      "source": [
        "#Analizo las ventas de cada articulo los ultimos 3 años\n",
        "pivot_table = dataframe.pivot_table(dataframe,index= \"product_id\",columns=\"anio\",aggfunc= {\"cantidad\":\"sum\"},fill_value=0)"
      ],
      "execution_count": 7,
      "outputs": []
    },
    {
      "cell_type": "code",
      "metadata": {
        "id": "AP2qTxBb69AJ"
      },
      "source": [
        "pivot_table.columns = pivot_table.columns.droplevel(0)\n",
        "pivot_table.columns.name = None              \n",
        "pivot_table = pivot_table.reset_index().rename_axis(None,axis = 1) \n",
        "pivot_table"
      ],
      "execution_count": null,
      "outputs": []
    },
    {
      "cell_type": "code",
      "metadata": {
        "id": "GNbZFobP_T59"
      },
      "source": [
        "today = datetime.today()\n",
        "today = (today.year) - 1"
      ],
      "execution_count": 9,
      "outputs": []
    },
    {
      "cell_type": "code",
      "metadata": {
        "id": "IqOsd_R_886N"
      },
      "source": [
        "data_filtrada = pivot_table[pivot_table[today] == 0]\n",
        "data_filtrada = pivot_table[pivot_table[today-1] == 0]\n",
        "data_filtrada"
      ],
      "execution_count": null,
      "outputs": []
    },
    {
      "cell_type": "code",
      "metadata": {
        "id": "fITFv3ZoyU0X"
      },
      "source": [
        "articulos_sin_ventas = data_filtrada[\"product_id\"].unique()\n",
        "articulos_sin_ventas"
      ],
      "execution_count": null,
      "outputs": []
    },
    {
      "cell_type": "markdown",
      "metadata": {
        "id": "Hb9TTDMhAfGM"
      },
      "source": [
        "Quito del Dataframe los articulos que no se vendieron en los ultimos 2 años"
      ]
    },
    {
      "cell_type": "code",
      "metadata": {
        "id": "r5RkJcvXAmZs"
      },
      "source": [
        "#filtro el dataset\n",
        "dataframe = dataframe[~ dataframe[\"product_id\"].isin(articulos_sin_ventas)]\n",
        "dataframe"
      ],
      "execution_count": null,
      "outputs": []
    },
    {
      "cell_type": "code",
      "metadata": {
        "colab": {
          "base_uri": "https://localhost:8080/",
          "height": 417
        },
        "id": "zTONE4OYF4v7",
        "outputId": "506b497c-5eb2-4fa5-e27d-df448cee10ef"
      },
      "source": [
        "pivot_table = dataframe.pivot_table(dataframe,index= \"product_id\",columns = \"anio\",aggfunc= {\"cantidad\":\"sum\"},fill_value=0)\n",
        "pivot_table.columns = pivot_table.columns.droplevel(0)\n",
        "pivot_table.columns.name = None              \n",
        "pivot_table = pivot_table.reset_index().rename_axis(None,axis = 1) \n",
        "pivot_table"
      ],
      "execution_count": 13,
      "outputs": [
        {
          "output_type": "execute_result",
          "data": {
            "text/html": [
              "<div>\n",
              "<style scoped>\n",
              "    .dataframe tbody tr th:only-of-type {\n",
              "        vertical-align: middle;\n",
              "    }\n",
              "\n",
              "    .dataframe tbody tr th {\n",
              "        vertical-align: top;\n",
              "    }\n",
              "\n",
              "    .dataframe thead th {\n",
              "        text-align: right;\n",
              "    }\n",
              "</style>\n",
              "<table border=\"1\" class=\"dataframe\">\n",
              "  <thead>\n",
              "    <tr style=\"text-align: right;\">\n",
              "      <th></th>\n",
              "      <th>product_id</th>\n",
              "      <th>2018</th>\n",
              "      <th>2019</th>\n",
              "      <th>2020</th>\n",
              "    </tr>\n",
              "  </thead>\n",
              "  <tbody>\n",
              "    <tr>\n",
              "      <th>0</th>\n",
              "      <td>3743</td>\n",
              "      <td>5</td>\n",
              "      <td>34</td>\n",
              "      <td>24</td>\n",
              "    </tr>\n",
              "    <tr>\n",
              "      <th>1</th>\n",
              "      <td>3744</td>\n",
              "      <td>1</td>\n",
              "      <td>3</td>\n",
              "      <td>2</td>\n",
              "    </tr>\n",
              "    <tr>\n",
              "      <th>2</th>\n",
              "      <td>3747</td>\n",
              "      <td>4</td>\n",
              "      <td>18</td>\n",
              "      <td>14</td>\n",
              "    </tr>\n",
              "    <tr>\n",
              "      <th>3</th>\n",
              "      <td>3748</td>\n",
              "      <td>1010</td>\n",
              "      <td>4777</td>\n",
              "      <td>3070</td>\n",
              "    </tr>\n",
              "    <tr>\n",
              "      <th>4</th>\n",
              "      <td>3749</td>\n",
              "      <td>264</td>\n",
              "      <td>1045</td>\n",
              "      <td>642</td>\n",
              "    </tr>\n",
              "    <tr>\n",
              "      <th>...</th>\n",
              "      <td>...</td>\n",
              "      <td>...</td>\n",
              "      <td>...</td>\n",
              "      <td>...</td>\n",
              "    </tr>\n",
              "    <tr>\n",
              "      <th>5609</th>\n",
              "      <td>13016</td>\n",
              "      <td>0</td>\n",
              "      <td>7</td>\n",
              "      <td>1</td>\n",
              "    </tr>\n",
              "    <tr>\n",
              "      <th>5610</th>\n",
              "      <td>13018</td>\n",
              "      <td>0</td>\n",
              "      <td>2</td>\n",
              "      <td>0</td>\n",
              "    </tr>\n",
              "    <tr>\n",
              "      <th>5611</th>\n",
              "      <td>13020</td>\n",
              "      <td>0</td>\n",
              "      <td>1</td>\n",
              "      <td>1</td>\n",
              "    </tr>\n",
              "    <tr>\n",
              "      <th>5612</th>\n",
              "      <td>13021</td>\n",
              "      <td>0</td>\n",
              "      <td>3</td>\n",
              "      <td>0</td>\n",
              "    </tr>\n",
              "    <tr>\n",
              "      <th>5613</th>\n",
              "      <td>13022</td>\n",
              "      <td>0</td>\n",
              "      <td>1</td>\n",
              "      <td>0</td>\n",
              "    </tr>\n",
              "  </tbody>\n",
              "</table>\n",
              "<p>5614 rows × 4 columns</p>\n",
              "</div>"
            ],
            "text/plain": [
              "      product_id  2018  2019  2020\n",
              "0           3743     5    34    24\n",
              "1           3744     1     3     2\n",
              "2           3747     4    18    14\n",
              "3           3748  1010  4777  3070\n",
              "4           3749   264  1045   642\n",
              "...          ...   ...   ...   ...\n",
              "5609       13016     0     7     1\n",
              "5610       13018     0     2     0\n",
              "5611       13020     0     1     1\n",
              "5612       13021     0     3     0\n",
              "5613       13022     0     1     0\n",
              "\n",
              "[5614 rows x 4 columns]"
            ]
          },
          "metadata": {},
          "execution_count": 13
        }
      ]
    },
    {
      "cell_type": "code",
      "metadata": {
        "colab": {
          "base_uri": "https://localhost:8080/"
        },
        "id": "vXiU_OJ4B-FF",
        "outputId": "3b600a8f-f206-4e42-9a28-32f755b2e56f"
      },
      "source": [
        "n = len(pivot_table[\"product_id\"].unique())\n",
        "lista_articulos_vendidos = []\n",
        "\n",
        "for i in [10,20,30,40,50,60,70,80,90,100,110,200,250,500,1000,2000,3000,5000,6000,9000,4000000]:\n",
        "  data = pivot_table[pivot_table[2020] > i]\n",
        "  articulos = len(data[\"product_id\"].unique())\n",
        "  list_articulos = data[\"product_id\"].unique()\n",
        "  lista_articulos_vendidos.append((i,list_articulos))\n",
        "  print(\"Los articulos que poseen mas de {} ventas son {}, representando el {}% de articulos con ventas en los ultimos años\".format(i,articulos,round(articulos / n * 100,2)))"
      ],
      "execution_count": 14,
      "outputs": [
        {
          "output_type": "stream",
          "name": "stdout",
          "text": [
            "Los articulos que poseen mas de 10 ventas son 2933, representando el 52.24% de articulos con ventas en los ultimos años\n",
            "Los articulos que poseen mas de 20 ventas son 2244, representando el 39.97% de articulos con ventas en los ultimos años\n",
            "Los articulos que poseen mas de 30 ventas son 1863, representando el 33.18% de articulos con ventas en los ultimos años\n",
            "Los articulos que poseen mas de 40 ventas son 1587, representando el 28.27% de articulos con ventas en los ultimos años\n",
            "Los articulos que poseen mas de 50 ventas son 1380, representando el 24.58% de articulos con ventas en los ultimos años\n",
            "Los articulos que poseen mas de 60 ventas son 1227, representando el 21.86% de articulos con ventas en los ultimos años\n",
            "Los articulos que poseen mas de 70 ventas son 1086, representando el 19.34% de articulos con ventas en los ultimos años\n",
            "Los articulos que poseen mas de 80 ventas son 970, representando el 17.28% de articulos con ventas en los ultimos años\n",
            "Los articulos que poseen mas de 90 ventas son 871, representando el 15.51% de articulos con ventas en los ultimos años\n",
            "Los articulos que poseen mas de 100 ventas son 786, representando el 14.0% de articulos con ventas en los ultimos años\n",
            "Los articulos que poseen mas de 110 ventas son 727, representando el 12.95% de articulos con ventas en los ultimos años\n",
            "Los articulos que poseen mas de 200 ventas son 417, representando el 7.43% de articulos con ventas en los ultimos años\n",
            "Los articulos que poseen mas de 250 ventas son 337, representando el 6.0% de articulos con ventas en los ultimos años\n",
            "Los articulos que poseen mas de 500 ventas son 173, representando el 3.08% de articulos con ventas en los ultimos años\n",
            "Los articulos que poseen mas de 1000 ventas son 72, representando el 1.28% de articulos con ventas en los ultimos años\n",
            "Los articulos que poseen mas de 2000 ventas son 34, representando el 0.61% de articulos con ventas en los ultimos años\n",
            "Los articulos que poseen mas de 3000 ventas son 14, representando el 0.25% de articulos con ventas en los ultimos años\n",
            "Los articulos que poseen mas de 5000 ventas son 6, representando el 0.11% de articulos con ventas en los ultimos años\n",
            "Los articulos que poseen mas de 6000 ventas son 3, representando el 0.05% de articulos con ventas en los ultimos años\n",
            "Los articulos que poseen mas de 9000 ventas son 2, representando el 0.04% de articulos con ventas en los ultimos años\n",
            "Los articulos que poseen mas de 4000000 ventas son 0, representando el 0.0% de articulos con ventas en los ultimos años\n"
          ]
        }
      ]
    },
    {
      "cell_type": "code",
      "metadata": {
        "id": "ATqDpGyWlnbN",
        "colab": {
          "base_uri": "https://localhost:8080/",
          "height": 417
        },
        "outputId": "29ba004f-4377-4c75-ebbd-6d0deb277ac7"
      },
      "source": [
        "pivot_table = dataframe.pivot_table(dataframe,index= \"product_id\",columns = \"anio\",aggfunc= {\"cantidad\":\"sum\"},fill_value=0)\n",
        "pivot_table.columns = pivot_table.columns.droplevel(0)\n",
        "pivot_table.columns.name = None              \n",
        "pivot_table = pivot_table.reset_index().rename_axis(None,axis = 1) \n",
        "pivot_table"
      ],
      "execution_count": 15,
      "outputs": [
        {
          "output_type": "execute_result",
          "data": {
            "text/html": [
              "<div>\n",
              "<style scoped>\n",
              "    .dataframe tbody tr th:only-of-type {\n",
              "        vertical-align: middle;\n",
              "    }\n",
              "\n",
              "    .dataframe tbody tr th {\n",
              "        vertical-align: top;\n",
              "    }\n",
              "\n",
              "    .dataframe thead th {\n",
              "        text-align: right;\n",
              "    }\n",
              "</style>\n",
              "<table border=\"1\" class=\"dataframe\">\n",
              "  <thead>\n",
              "    <tr style=\"text-align: right;\">\n",
              "      <th></th>\n",
              "      <th>product_id</th>\n",
              "      <th>2018</th>\n",
              "      <th>2019</th>\n",
              "      <th>2020</th>\n",
              "    </tr>\n",
              "  </thead>\n",
              "  <tbody>\n",
              "    <tr>\n",
              "      <th>0</th>\n",
              "      <td>3743</td>\n",
              "      <td>5</td>\n",
              "      <td>34</td>\n",
              "      <td>24</td>\n",
              "    </tr>\n",
              "    <tr>\n",
              "      <th>1</th>\n",
              "      <td>3744</td>\n",
              "      <td>1</td>\n",
              "      <td>3</td>\n",
              "      <td>2</td>\n",
              "    </tr>\n",
              "    <tr>\n",
              "      <th>2</th>\n",
              "      <td>3747</td>\n",
              "      <td>4</td>\n",
              "      <td>18</td>\n",
              "      <td>14</td>\n",
              "    </tr>\n",
              "    <tr>\n",
              "      <th>3</th>\n",
              "      <td>3748</td>\n",
              "      <td>1010</td>\n",
              "      <td>4777</td>\n",
              "      <td>3070</td>\n",
              "    </tr>\n",
              "    <tr>\n",
              "      <th>4</th>\n",
              "      <td>3749</td>\n",
              "      <td>264</td>\n",
              "      <td>1045</td>\n",
              "      <td>642</td>\n",
              "    </tr>\n",
              "    <tr>\n",
              "      <th>...</th>\n",
              "      <td>...</td>\n",
              "      <td>...</td>\n",
              "      <td>...</td>\n",
              "      <td>...</td>\n",
              "    </tr>\n",
              "    <tr>\n",
              "      <th>5609</th>\n",
              "      <td>13016</td>\n",
              "      <td>0</td>\n",
              "      <td>7</td>\n",
              "      <td>1</td>\n",
              "    </tr>\n",
              "    <tr>\n",
              "      <th>5610</th>\n",
              "      <td>13018</td>\n",
              "      <td>0</td>\n",
              "      <td>2</td>\n",
              "      <td>0</td>\n",
              "    </tr>\n",
              "    <tr>\n",
              "      <th>5611</th>\n",
              "      <td>13020</td>\n",
              "      <td>0</td>\n",
              "      <td>1</td>\n",
              "      <td>1</td>\n",
              "    </tr>\n",
              "    <tr>\n",
              "      <th>5612</th>\n",
              "      <td>13021</td>\n",
              "      <td>0</td>\n",
              "      <td>3</td>\n",
              "      <td>0</td>\n",
              "    </tr>\n",
              "    <tr>\n",
              "      <th>5613</th>\n",
              "      <td>13022</td>\n",
              "      <td>0</td>\n",
              "      <td>1</td>\n",
              "      <td>0</td>\n",
              "    </tr>\n",
              "  </tbody>\n",
              "</table>\n",
              "<p>5614 rows × 4 columns</p>\n",
              "</div>"
            ],
            "text/plain": [
              "      product_id  2018  2019  2020\n",
              "0           3743     5    34    24\n",
              "1           3744     1     3     2\n",
              "2           3747     4    18    14\n",
              "3           3748  1010  4777  3070\n",
              "4           3749   264  1045   642\n",
              "...          ...   ...   ...   ...\n",
              "5609       13016     0     7     1\n",
              "5610       13018     0     2     0\n",
              "5611       13020     0     1     1\n",
              "5612       13021     0     3     0\n",
              "5613       13022     0     1     0\n",
              "\n",
              "[5614 rows x 4 columns]"
            ]
          },
          "metadata": {},
          "execution_count": 15
        }
      ]
    },
    {
      "cell_type": "markdown",
      "metadata": {
        "id": "6D4AD_XrJDmO"
      },
      "source": [
        "Conclusiones del analisis\n",
        "\n",
        "1) 655 Articulos no tuvieron ventas los ultimos 2 años\n",
        "\n",
        "2) 3891 articulos no se vendieron en los ultimos 6 meses\n",
        "\n",
        "3) 1228 articulos tuvieron ventas en los ultimos años  y en los ultimos 6 meses\n",
        "\n",
        "4) De estos 1228 articulos, 1056 vendieron 10 articulos en el año representando el 85,75%. \n",
        "\n",
        "5) En el histograma esta la participacion de la cantidad de articulos vendidos los ultimos años y meses sobre el total\n",
        "\n",
        "nota = tomar las semanas, "
      ]
    },
    {
      "cell_type": "code",
      "metadata": {
        "id": "qW0R-xtb3LLs"
      },
      "source": [
        "dataframe,lista_anios = aux.campos_datetime(dataframe)\n",
        "dataframe"
      ],
      "execution_count": null,
      "outputs": []
    },
    {
      "cell_type": "code",
      "metadata": {
        "id": "WHjz_7Rj3wUs"
      },
      "source": [
        "dataframe = aux.crear_accumulative_week(dataframe,lista_anios)\n",
        "dataframe"
      ],
      "execution_count": null,
      "outputs": []
    },
    {
      "cell_type": "code",
      "metadata": {
        "id": "q1YFThS3h0PC"
      },
      "source": [
        "# filtro semestral dataframe\n",
        "#voy a obtener la lista de articulos que quiero excluir por que no se vendieron en el ultimo semestre\n",
        "data = dataframe\n",
        "data = data.pivot_table(data,index=[\"product_id\",\"Semester\"],columns=[\"year\"],aggfunc= {\"cantidad\":\"sum\"},fill_value=0)\n",
        "data.columns = data.columns.droplevel(0) \n",
        "data.columns.name = None             \n",
        "data = data.reset_index().rename_axis(None,axis = 1)\n",
        "data"
      ],
      "execution_count": null,
      "outputs": []
    },
    {
      "cell_type": "code",
      "metadata": {
        "id": "EJhiK4iph5r7"
      },
      "source": [
        "data_con_ventas_ultimo_semestre = data[data[\"Semester\"] == 2]\n",
        "data_con_ventas_ultimo_semestre = data_con_ventas_ultimo_semestre[data_con_ventas_ultimo_semestre[2020] > 20]\n",
        "data_con_ventas_ultimo_semestre"
      ],
      "execution_count": null,
      "outputs": []
    },
    {
      "cell_type": "code",
      "metadata": {
        "id": "J0bGa9SVjnpI"
      },
      "source": [
        "productos_vendidos = data_con_ventas_ultimo_semestre[\"product_id\"].unique()\n",
        "len(productos_vendidos)"
      ],
      "execution_count": null,
      "outputs": []
    },
    {
      "cell_type": "markdown",
      "metadata": {
        "id": "c4WXNA-X_qb1"
      },
      "source": [
        "Conclusion\n",
        "\n",
        "En base a lo analizado, voy a crear modelos con los articulos que tuvieron mas de 20 ventas, desestimando a los anteriores"
      ]
    },
    {
      "cell_type": "code",
      "metadata": {
        "id": "iNbh_OPqNlXU"
      },
      "source": [
        "#dataframe = dataframe.pivot_table(dataframe,index=[\"week2\",\"product_id\"],aggfunc= {\"cantidad\":\"sum\"},fill_value=0)\n",
        "#dataframe.columns.name = None              \n",
        "#dataframe = dataframe.reset_index().rename_axis(None,axis = 1) \n",
        "\n",
        "\n",
        "# tengo que meter las 52 semanas de todos los años\n",
        "\n",
        "lista_numeros_semana = list(dataframe[\"acumulative_week\"].unique())\n",
        "lista_weeks_ordenadas = []\n",
        "\n",
        "for i in range(1,len(lista_numeros_semana)+1,1):\n",
        "  if i in lista_numeros_semana:\n",
        "    continue\n",
        "  else:\n",
        "    lista_numeros_semana.append(i)\n"
      ],
      "execution_count": null,
      "outputs": []
    },
    {
      "cell_type": "code",
      "metadata": {
        "id": "szmHI1LS3_EC"
      },
      "source": [
        "dataframe_to_predict = aux.agregar_semanas_cantidades_cero(datafame,lista_de_articulos)"
      ],
      "execution_count": null,
      "outputs": []
    },
    {
      "cell_type": "code",
      "metadata": {
        "id": "EL3wSz9Vqvck"
      },
      "source": [
        "dataframe_to_predict"
      ],
      "execution_count": null,
      "outputs": []
    },
    {
      "cell_type": "code",
      "metadata": {
        "id": "hCb2158NvvXL"
      },
      "source": [
        "dataframe_to_predict.pivot_table(index=\"product_id\",columns= \"acumulative_week\",aggfunc= {\"cantidad\":\"sum\"},fill_value=0)"
      ],
      "execution_count": null,
      "outputs": []
    },
    {
      "cell_type": "markdown",
      "metadata": {
        "id": "uPy44fucn3Rv"
      },
      "source": [
        "Conclusiones\n",
        "\n",
        "Despues de limpiar mucho los datos, y agruparlos por semana, tengo que comprobar si vale la pena hacer regresiones lineales de los datos ya que tengo muchos articulos que en muchas semanas no tienen ventas. Lo que se podria evaluar es el nivel de ventas por articulo por mes para analizar cuales son posibles candidatos a predecir\n",
        "\n",
        "Voy a excluir los articulos que no se vendieron en los ultimos 6 meses"
      ]
    },
    {
      "cell_type": "markdown",
      "metadata": {
        "id": "zwRj4p7dL9PS"
      },
      "source": [
        "ANOTACION:\n",
        "\n",
        "Hasta este punto tengo toda la data limpia en el dataframe_to_predict. Se saco la conclusion de que muy probablemente no sirva crear una regresion linear articulo, tienda sino que es mejor crear por articulo"
      ]
    },
    {
      "cell_type": "code",
      "metadata": {
        "id": "-bDb_hLUAUzI"
      },
      "source": [
        "import statsmodels.api as sm\n",
        "import numpy as np\n",
        "# voy a trabajar con un solo articulo y luego lo replico a los demas"
      ],
      "execution_count": null,
      "outputs": []
    },
    {
      "cell_type": "code",
      "metadata": {
        "id": "3Dyp5p3u4ZjR"
      },
      "source": [
        "data = predecir(dataframe_to_predict,lista_articulos)\n",
        "data"
      ],
      "execution_count": null,
      "outputs": []
    },
    {
      "cell_type": "code",
      "metadata": {
        "id": "kJAJQyoWttOX"
      },
      "source": [
        "R2_menor_50 = 0\n",
        "R2_beetween_5070 = 0\n",
        "R2_more_70 = 0\n",
        "for row in data.itertuples():\n",
        "  if row[2] > 0 and row[2] <= 0.50:\n",
        "    R2_menor_50 += 1\n",
        "  elif row[2] > 0.50 and row[2] <= 0.70:\n",
        "    R2_beetween_5070 += 1\n",
        "  else:\n",
        "    R2_more_70 += 1\n",
        "\n",
        "print(\"La cantidad de articulos con R2 menor a 0.50 es \",R2_menor_50)\n",
        "print(\"La cantidad de articulos con R2 mayor a 0.50 y menor a 0.70 es \",R2_beetween_5070)\n",
        "print(\"La cantidad de articulos con R2 mayor a 0.70 es\",R2_more_70)"
      ],
      "execution_count": null,
      "outputs": []
    },
    {
      "cell_type": "markdown",
      "metadata": {
        "id": "4a09FAZQIaHh"
      },
      "source": [
        "https://www.statsmodels.org/dev/example_formulas.html"
      ]
    },
    {
      "cell_type": "markdown",
      "metadata": {
        "id": "mz3Amfs6M4MG"
      },
      "source": [
        "Es que me arme en base al modelo, una prediccion y podria crear un array con las mismas y enchufarlo en el dataframe to predict para ver las diferencias\n",
        "\n",
        "Puedo crear un funcion que me calcule todos los modelos y me entregue una tabla con:\n",
        "\n",
        "\n",
        "\n",
        "1.   Todos los R2\n",
        "2.   Los articulos de esos R2\n",
        "\n",
        "Podria crear un filtro que si el R2 es mayor a 0.70 me haga las predicciones y luego las comparo con el dataframe historico.\n",
        "\n",
        "\n",
        "\n",
        "\n",
        "\n",
        "\n",
        "\n",
        "\n",
        "\n",
        "\n",
        "\n"
      ]
    }
  ]
}