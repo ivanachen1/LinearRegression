{
  "nbformat": 4,
  "nbformat_minor": 0,
  "metadata": {
    "colab": {
      "name": "LinnearRegressionAux.ipynb",
      "provenance": [],
      "authorship_tag": "ABX9TyNC0/SkaBNGcvE47dW49Dd+",
      "include_colab_link": true
    },
    "kernelspec": {
      "name": "python3",
      "display_name": "Python 3"
    },
    "language_info": {
      "name": "python"
    }
  },
  "cells": [
    {
      "cell_type": "markdown",
      "metadata": {
        "id": "view-in-github",
        "colab_type": "text"
      },
      "source": [
        "<a href=\"https://colab.research.google.com/github/ivanachen1/LinearRegression/blob/main/LinnearRegressionAux.ipynb\" target=\"_parent\"><img src=\"https://colab.research.google.com/assets/colab-badge.svg\" alt=\"Open In Colab\"/></a>"
      ]
    },
    {
      "cell_type": "code",
      "metadata": {
        "id": "jlUtK65Ry2u6"
      },
      "source": [
        "import pandas as pd\n",
        "import numpy as np\n",
        "import matplotlib.pyplot as plt\n",
        "from datetime import datetime"
      ],
      "execution_count": 1,
      "outputs": []
    },
    {
      "cell_type": "code",
      "metadata": {
        "id": "ygPwPh9dzG2K"
      },
      "source": [
        "def carga_datos():\n",
        "  \"\"\"\n",
        "  Esta funcion carga el dataframe\n",
        "  \"\"\"\n",
        "\n",
        "  list_dataframes = []\n",
        "\n",
        "  for i in range(52,63,1):\n",
        "    if i in [50,51,54]:\n",
        "      continue\n",
        "    elif i == 63:\n",
        "      break\n",
        "    else:\n",
        "      if i in [52,53,55,56,57]:\n",
        "        data = pd.read_csv(\"/content/drive/MyDrive/Colab Notebooks/Machine Learning/VENTA_DIARIA_6{}.csv\".format(i),sep=\",\")\n",
        "      else:\n",
        "        data = pd.read_csv(\"/content/drive/MyDrive/Colab Notebooks/Machine Learning/VENTA_DIARIA_6{}.csv\".format(i),sep=\",\") \n",
        "      \n",
        "      list_dataframes.append(data)\n",
        "    \n",
        "  dataframe = pd.concat(list_dataframes)\n",
        "\n",
        "  return dataframe"
      ],
      "execution_count": 6,
      "outputs": []
    },
    {
      "cell_type": "code",
      "metadata": {
        "id": "GeWY38QHzkNk"
      },
      "source": [
        "def cambio_formatos(dataframe):\n",
        "  \"\"\"\n",
        "  Esta funcion cambia el formato de los campos del \n",
        "  dataframe\n",
        "  \"\"\"\n",
        "  dataframe[\"cantidad\"] = dataframe[\"cantidad\"].astype(int)\n",
        "  dataframe[\"mes\"] = dataframe[\"mes\"].astype(int)\n",
        "  dataframe[\"anio\"] = dataframe[\"anio\"].astype(int)\n",
        "  dataframe[\"operating_unit_id\"] = dataframe[\"operating_unit_id\"].astype(int)\n",
        "  dataframe[\"product_id\"] = dataframe[\"product_id\"].astype(int)\n",
        "\n",
        "  return dataframe"
      ],
      "execution_count": 8,
      "outputs": []
    },
    {
      "cell_type": "code",
      "metadata": {
        "id": "8mxXGwon0sdj"
      },
      "source": [
        "def campos_datetime(dataframe):\n",
        "  \"\"\"\n",
        "  Esta funcion crea los campos en formato datetime\n",
        "  \"\"\"\n",
        "\n",
        "  dataframe[\"Fecha_format_datetime\"] = pd.to_datetime(dataframe['fecha'])\n",
        "  dataframe.drop([\"fecha\",\"mes\",\"anio\",\"tipo\"],axis = 1, inplace= True)\n",
        "  dataframe = dataframe[dataframe[\"cantidad\"] > 0]\n",
        "\n",
        "  dataframe.sort_values(by = \"Fecha_format_datetime\",inplace = True)\n",
        "  #df['year'] = pd.DatetimeIndex(df['ArrivalDate']).year\n",
        "  dataframe[\"day\"] = pd.DatetimeIndex(dataframe[\"Fecha_format_datetime\"]).day\n",
        "  dataframe[\"month\"] = pd.DatetimeIndex(dataframe[\"Fecha_format_datetime\"]).month\n",
        "  dataframe[\"year\"] = pd.DatetimeIndex(dataframe[\"Fecha_format_datetime\"]).year\n",
        "  dataframe[\"week\"] = pd.DatetimeIndex(dataframe[\"Fecha_format_datetime\"]).week\n",
        "  dataframe[\"week2\"] = pd.DatetimeIndex(dataframe[\"Fecha_format_datetime\"]).strftime('%U_%Y')\n",
        "  dataframe[\"Quarter\"] = pd.DatetimeIndex(dataframe[\"Fecha_format_datetime\"]).quarter\n",
        "  dataframe = dataframe.assign(week2= dataframe['Fecha_format_datetime'].dt.strftime('%Y_%U')).sort_values('week2')\n",
        "  dataframe[\"Semester\"] = np.where((dataframe[\"Quarter\"] == 1) | (dataframe[\"Quarter\"] == 2),1,2)\n",
        "  dataframe.sort_values(by = \"week2\",inplace = True)\n",
        "\n",
        "  return dataframe"
      ],
      "execution_count": 9,
      "outputs": []
    },
    {
      "cell_type": "code",
      "metadata": {
        "id": "1mroKSby1Evg"
      },
      "source": [
        "def crear_accumulative_week(dataframe):\n",
        "  \"\"\"\n",
        "  Crea el campo de conteo de semanas de un año para el otro\n",
        "  \"\"\"\n",
        "  lista_anios = dataframe[\"anio\"].unique()\n",
        "\n",
        "  field = []\n",
        "  for row in dataframe.itertuples():\n",
        "    year = row[7]\n",
        "    if year == min(lista_anios):\n",
        "      week = row[8]\n",
        "      field.append(week)\n",
        "    else:\n",
        "      diference = year - min(lista_anios)\n",
        "      calculo = (row[8] + 52) * diference\n",
        "      field.append(calculo)\n",
        "\n",
        "\n",
        "    field = np.array(field)\n",
        "    dataframe[\"acumulative_week\"] = field\n",
        "\n",
        "  return dataframe"
      ],
      "execution_count": 10,
      "outputs": []
    },
    {
      "cell_type": "code",
      "metadata": {
        "id": "LCJZSXLc1m7L"
      },
      "source": [
        "def agregar_semanas_cantidades_cero(dataframe,lista_de_articulos):\n",
        "  \"\"\"\n",
        "  Esta funcion agrega las semanas restantes al dataframe en \n",
        "  base a los articulos suministrados en lista pasado y devuelve el \n",
        "  mismo completo\n",
        "  \"\"\"\n",
        "\n",
        "  lista_numeros_semana = list(dataframe[\"acumulative_week\"].unique())\n",
        "  lista_weeks_ordenadas = []\n",
        "\n",
        "  for i in range(1,len(lista_numeros_semana)+1,1):\n",
        "    if i in lista_numeros_semana:\n",
        "      continue\n",
        "  else:\n",
        "    lista_numeros_semana.append(i)\n",
        "  \n",
        "  dataframe_to_predict = []\n",
        "  i = 0\n",
        "  df2 = dataframe.drop(labels = [\"operating_unit_id\",\"Fecha_format_datetime\",\"day\",\"month\",\"year\",\"week\",\"week2\",\"Quarter\",\"Semester\"],axis=1)\n",
        "  \n",
        "  for articulo in lista_articulos:\n",
        "    data_temporal = df2[df2[\"product_id\"] == articulo]\n",
        "    dataframe_to_predict.append(data_temporal)\n",
        "  \n",
        "  for semana in lista_numeros_semana:\n",
        "    if semana not in list(data_temporal[\"acumulative_week\"]):\n",
        "      data = pd.DataFrame({\"product_id\":articulo,\"acumulative_week\":semana,\"cantidad\":0},index = [i])\n",
        "      i = i+1     \n",
        "    dataframe_to_predict.append(data)\n",
        "\n",
        "  dataframe_to_predict = pd.concat(dataframe_to_predict)\n",
        "\n",
        "  return dataframe_to_predict"
      ],
      "execution_count": 11,
      "outputs": []
    },
    {
      "cell_type": "code",
      "metadata": {
        "id": "3TF2eIj22q-j"
      },
      "source": [
        "def predecir(dataframe,lista_articulos):\n",
        "  \"\"\"\n",
        "  Esta funcion itera el dataframe que se le pasa como parametro y te devuelve una tabla con\n",
        "  los articulos y los R cuadrados\n",
        "  \"\"\"\n",
        "  import statsmodels.api as sm\n",
        "  import numpy as np\n",
        "  import pandas as pd\n",
        "  \n",
        "  dataframe_prediccion = []\n",
        "\n",
        "  i = 0\n",
        "  for articulo in lista_articulos:\n",
        "    data_prueba = dataframe_to_predict[dataframe_to_predict[\"product_id\"] == articulo]\n",
        "    Y = np.array(data_prueba[\"cantidad\"])\n",
        "    X = np.array(data_prueba[\"acumulative_week\"])\n",
        "    model = sm.OLS(Y,X)\n",
        "    results = model.fit()\n",
        "    R2 = results.rsquared\n",
        "    i = i+1\n",
        "\n",
        "\n",
        "    data = {\"Articulo\":articulo,\"R square\":R2}\n",
        "    i = i+1     \n",
        "    dataframe_prediccion.append(data)\n",
        "    \n",
        "\n",
        "\n",
        "  dataframe_prediccion = pd.DataFrame(dataframe_prediccion)\n",
        "\n",
        "  return dataframe_prediccion"
      ],
      "execution_count": 12,
      "outputs": []
    }
  ]
}